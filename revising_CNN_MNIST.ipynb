{
 "cells": [
  {
   "cell_type": "code",
   "execution_count": 1,
   "metadata": {},
   "outputs": [],
   "source": [
    "#importing all the libraries required\n",
    "import numpy as np\n",
    "import pandas as pd\n",
    "import matplotlib.pyplot as plt\n",
    "%matplotlib inline\n",
    "\n",
    "import keras\n",
    "from keras.models import Sequential\n",
    "from keras.layers import Convolution2D,Flatten,Dense,MaxPool2D,Dropout,Activation\n",
    "from keras.utils import np_utils"
   ]
  },
  {
   "cell_type": "code",
   "execution_count": 2,
   "metadata": {},
   "outputs": [],
   "source": [
    "#reading the data\n",
    "ds = pd.read_csv(\"D:/Users/chira/Desktop/machine_learning/new_data/mnist/train.csv\")\n",
    "data = ds.values[:10000]"
   ]
  },
  {
   "cell_type": "code",
   "execution_count": 3,
   "metadata": {},
   "outputs": [
    {
     "name": "stdout",
     "output_type": "stream",
     "text": [
      "(10000, 784) (10000, 10)\n"
     ]
    }
   ],
   "source": [
    "#extracting data into labels\n",
    "X = data[:,1:]/255.0\n",
    "y = np_utils.to_categorical(data[:,0])\n",
    "\n",
    "print(X.shape,y.shape)"
   ]
  },
  {
   "cell_type": "code",
   "execution_count": 16,
   "metadata": {},
   "outputs": [
    {
     "name": "stdout",
     "output_type": "stream",
     "text": [
      "(8000, 28, 28, 1) (2000, 28, 28, 1)\n",
      "(8000, 10) (2000, 10)\n"
     ]
    }
   ],
   "source": [
    "#splitting data in training and testing data\n",
    "split = int(0.8*X.shape[0])\n",
    "\n",
    "X_train = X[:split].reshape(-1,28,28,1)\n",
    "X_test = X[split:].reshape(-1,28,28,1)\n",
    "\n",
    "y_train = y[:split]\n",
    "y_test = y[split:]\n",
    "\n",
    "print(X_train.shape,X_test.shape)\n",
    "print(y_train.shape,y_test.shape)"
   ]
  },
  {
   "cell_type": "code",
   "execution_count": 17,
   "metadata": {},
   "outputs": [
    {
     "name": "stdout",
     "output_type": "stream",
     "text": [
      "_________________________________________________________________\n",
      "Layer (type)                 Output Shape              Param #   \n",
      "=================================================================\n",
      "conv2d_14 (Conv2D)           (None, 26, 26, 32)        320       \n",
      "_________________________________________________________________\n",
      "activation_16 (Activation)   (None, 26, 26, 32)        0         \n",
      "_________________________________________________________________\n",
      "conv2d_15 (Conv2D)           (None, 24, 24, 16)        4624      \n",
      "_________________________________________________________________\n",
      "activation_17 (Activation)   (None, 24, 24, 16)        0         \n",
      "_________________________________________________________________\n",
      "max_pooling2d_8 (MaxPooling2 (None, 12, 12, 16)        0         \n",
      "_________________________________________________________________\n",
      "conv2d_16 (Conv2D)           (None, 10, 10, 8)         1160      \n",
      "_________________________________________________________________\n",
      "activation_18 (Activation)   (None, 10, 10, 8)         0         \n",
      "_________________________________________________________________\n",
      "max_pooling2d_9 (MaxPooling2 (None, 5, 5, 8)           0         \n",
      "_________________________________________________________________\n",
      "flatten_4 (Flatten)          (None, 200)               0         \n",
      "_________________________________________________________________\n",
      "dropout_4 (Dropout)          (None, 200)               0         \n",
      "_________________________________________________________________\n",
      "dense_4 (Dense)              (None, 10)                2010      \n",
      "_________________________________________________________________\n",
      "activation_19 (Activation)   (None, 10)                0         \n",
      "=================================================================\n",
      "Total params: 8,114\n",
      "Trainable params: 8,114\n",
      "Non-trainable params: 0\n",
      "_________________________________________________________________\n"
     ]
    }
   ],
   "source": [
    "# Building the CNN mdoel\n",
    "\n",
    "model = Sequential()\n",
    "model.add(Convolution2D(32,(3,3),input_shape=(28,28,1)))\n",
    "model.add(Activation('relu'))\n",
    "\n",
    "model.add(Convolution2D(16,(3,3)))\n",
    "model.add(Activation('elu'))\n",
    "model.add(MaxPool2D(pool_size=(2,2)))\n",
    "\n",
    "model.add(Convolution2D(8,(3,3)))\n",
    "model.add(Activation('elu'))\n",
    "model.add(MaxPool2D(pool_size=(2,2)))\n",
    "\n",
    "model.add(Flatten())\n",
    "model.add(Dropout(0.5))\n",
    "model.add(Dense(10))\n",
    "model.add(Activation('softmax'))\n",
    "\n",
    "model.summary()\n",
    "model.compile(loss='categorical_crossentropy',optimizer='adam',metrics=['accuracy'])"
   ]
  },
  {
   "cell_type": "code",
   "execution_count": 19,
   "metadata": {},
   "outputs": [
    {
     "name": "stdout",
     "output_type": "stream",
     "text": [
      "Train on 8000 samples, validate on 2000 samples\n",
      "Epoch 1/100\n",
      "8000/8000 [==============================] - 1s 147us/step - loss: 0.1960 - acc: 0.9368 - val_loss: 0.1113 - val_acc: 0.9675\n",
      "Epoch 2/100\n",
      "8000/8000 [==============================] - 1s 146us/step - loss: 0.1818 - acc: 0.9448 - val_loss: 0.1032 - val_acc: 0.9705\n",
      "Epoch 3/100\n",
      "8000/8000 [==============================] - 1s 149us/step - loss: 0.1668 - acc: 0.9465 - val_loss: 0.0910 - val_acc: 0.9735\n",
      "Epoch 4/100\n",
      "8000/8000 [==============================] - 1s 147us/step - loss: 0.1761 - acc: 0.9464 - val_loss: 0.0950 - val_acc: 0.9715\n",
      "Epoch 5/100\n",
      "8000/8000 [==============================] - 1s 145us/step - loss: 0.1646 - acc: 0.9504 - val_loss: 0.0969 - val_acc: 0.9715\n",
      "Epoch 6/100\n",
      "8000/8000 [==============================] - 1s 148us/step - loss: 0.1498 - acc: 0.9509 - val_loss: 0.0885 - val_acc: 0.9725\n",
      "Epoch 7/100\n",
      "8000/8000 [==============================] - 1s 159us/step - loss: 0.1565 - acc: 0.9499 - val_loss: 0.0875 - val_acc: 0.9710\n",
      "Epoch 8/100\n",
      "8000/8000 [==============================] - 1s 154us/step - loss: 0.1524 - acc: 0.9514 - val_loss: 0.0825 - val_acc: 0.9740\n",
      "Epoch 9/100\n",
      "8000/8000 [==============================] - 1s 146us/step - loss: 0.1456 - acc: 0.9558 - val_loss: 0.0801 - val_acc: 0.9765\n",
      "Epoch 10/100\n",
      "8000/8000 [==============================] - 1s 149us/step - loss: 0.1442 - acc: 0.9538 - val_loss: 0.0833 - val_acc: 0.9765\n",
      "Epoch 11/100\n",
      "8000/8000 [==============================] - 1s 146us/step - loss: 0.1330 - acc: 0.9593 - val_loss: 0.0776 - val_acc: 0.9775\n",
      "Epoch 12/100\n",
      "8000/8000 [==============================] - 1s 155us/step - loss: 0.1373 - acc: 0.9565 - val_loss: 0.0767 - val_acc: 0.9770\n",
      "Epoch 13/100\n",
      "8000/8000 [==============================] - 1s 153us/step - loss: 0.1286 - acc: 0.9570 - val_loss: 0.0735 - val_acc: 0.9775\n",
      "Epoch 14/100\n",
      "8000/8000 [==============================] - 1s 148us/step - loss: 0.1285 - acc: 0.9588 - val_loss: 0.0701 - val_acc: 0.9775\n",
      "Epoch 15/100\n",
      "8000/8000 [==============================] - 1s 148us/step - loss: 0.1331 - acc: 0.9571 - val_loss: 0.0852 - val_acc: 0.9770\n",
      "Epoch 16/100\n",
      "8000/8000 [==============================] - 1s 146us/step - loss: 0.1264 - acc: 0.9595 - val_loss: 0.0765 - val_acc: 0.9790\n",
      "Epoch 17/100\n",
      "8000/8000 [==============================] - 1s 147us/step - loss: 0.1271 - acc: 0.9604 - val_loss: 0.0707 - val_acc: 0.9805\n",
      "Epoch 18/100\n",
      "8000/8000 [==============================] - 1s 147us/step - loss: 0.1254 - acc: 0.9600 - val_loss: 0.0659 - val_acc: 0.9810\n",
      "Epoch 19/100\n",
      "8000/8000 [==============================] - 1s 146us/step - loss: 0.1106 - acc: 0.9660 - val_loss: 0.0659 - val_acc: 0.9790\n",
      "Epoch 20/100\n",
      "8000/8000 [==============================] - 1s 150us/step - loss: 0.1156 - acc: 0.9605 - val_loss: 0.0660 - val_acc: 0.9800\n",
      "Epoch 21/100\n",
      "8000/8000 [==============================] - 1s 146us/step - loss: 0.1065 - acc: 0.9641 - val_loss: 0.0622 - val_acc: 0.9830\n",
      "Epoch 22/100\n",
      "8000/8000 [==============================] - 1s 146us/step - loss: 0.1099 - acc: 0.9646 - val_loss: 0.0643 - val_acc: 0.9805\n",
      "Epoch 23/100\n",
      "8000/8000 [==============================] - 1s 146us/step - loss: 0.1097 - acc: 0.9656 - val_loss: 0.0665 - val_acc: 0.9805\n",
      "Epoch 24/100\n",
      "8000/8000 [==============================] - 1s 145us/step - loss: 0.1118 - acc: 0.9648 - val_loss: 0.0645 - val_acc: 0.9825\n",
      "Epoch 25/100\n",
      "8000/8000 [==============================] - 1s 147us/step - loss: 0.1048 - acc: 0.9660 - val_loss: 0.0622 - val_acc: 0.9815\n",
      "Epoch 26/100\n",
      "8000/8000 [==============================] - 1s 147us/step - loss: 0.0988 - acc: 0.9681 - val_loss: 0.0627 - val_acc: 0.9805\n",
      "Epoch 27/100\n",
      "8000/8000 [==============================] - 1s 145us/step - loss: 0.1022 - acc: 0.9646 - val_loss: 0.0609 - val_acc: 0.9855\n",
      "Epoch 28/100\n",
      "8000/8000 [==============================] - 1s 148us/step - loss: 0.1038 - acc: 0.9674 - val_loss: 0.0596 - val_acc: 0.9820\n",
      "Epoch 29/100\n",
      "8000/8000 [==============================] - 1s 145us/step - loss: 0.1031 - acc: 0.9663 - val_loss: 0.0610 - val_acc: 0.9795\n",
      "Epoch 30/100\n",
      "8000/8000 [==============================] - 1s 147us/step - loss: 0.0965 - acc: 0.9690 - val_loss: 0.0558 - val_acc: 0.9820\n",
      "Epoch 31/100\n",
      "8000/8000 [==============================] - 1s 147us/step - loss: 0.1011 - acc: 0.9655 - val_loss: 0.0574 - val_acc: 0.9830\n",
      "Epoch 32/100\n",
      "8000/8000 [==============================] - 1s 146us/step - loss: 0.0946 - acc: 0.9704 - val_loss: 0.0565 - val_acc: 0.9825\n",
      "Epoch 33/100\n",
      "8000/8000 [==============================] - 1s 144us/step - loss: 0.0941 - acc: 0.9685 - val_loss: 0.0592 - val_acc: 0.9795\n",
      "Epoch 34/100\n",
      "8000/8000 [==============================] - 1s 145us/step - loss: 0.0905 - acc: 0.9705 - val_loss: 0.0538 - val_acc: 0.9825\n",
      "Epoch 35/100\n",
      "8000/8000 [==============================] - 1s 147us/step - loss: 0.0934 - acc: 0.9706 - val_loss: 0.0546 - val_acc: 0.9835\n",
      "Epoch 36/100\n",
      "8000/8000 [==============================] - 1s 146us/step - loss: 0.0977 - acc: 0.9681 - val_loss: 0.0564 - val_acc: 0.9825\n",
      "Epoch 37/100\n",
      "8000/8000 [==============================] - 1s 147us/step - loss: 0.0938 - acc: 0.9705 - val_loss: 0.0570 - val_acc: 0.9815\n",
      "Epoch 38/100\n",
      "8000/8000 [==============================] - 1s 150us/step - loss: 0.0944 - acc: 0.9696 - val_loss: 0.0529 - val_acc: 0.9820\n",
      "Epoch 39/100\n",
      "8000/8000 [==============================] - 1s 147us/step - loss: 0.0896 - acc: 0.9716 - val_loss: 0.0533 - val_acc: 0.9835\n",
      "Epoch 40/100\n",
      "8000/8000 [==============================] - 1s 143us/step - loss: 0.0830 - acc: 0.9725 - val_loss: 0.0522 - val_acc: 0.9860\n",
      "Epoch 41/100\n",
      "8000/8000 [==============================] - 1s 146us/step - loss: 0.0935 - acc: 0.9696 - val_loss: 0.0514 - val_acc: 0.9815\n",
      "Epoch 42/100\n",
      "8000/8000 [==============================] - 1s 147us/step - loss: 0.0846 - acc: 0.9736 - val_loss: 0.0473 - val_acc: 0.9850\n",
      "Epoch 43/100\n",
      "8000/8000 [==============================] - 1s 146us/step - loss: 0.0840 - acc: 0.9721 - val_loss: 0.0497 - val_acc: 0.9845\n",
      "Epoch 44/100\n",
      "8000/8000 [==============================] - 1s 144us/step - loss: 0.0914 - acc: 0.9700 - val_loss: 0.0491 - val_acc: 0.9840\n",
      "Epoch 45/100\n",
      "8000/8000 [==============================] - 1s 145us/step - loss: 0.0903 - acc: 0.9703 - val_loss: 0.0481 - val_acc: 0.9855\n",
      "Epoch 46/100\n",
      "8000/8000 [==============================] - 1s 146us/step - loss: 0.0858 - acc: 0.9713 - val_loss: 0.0470 - val_acc: 0.9840\n",
      "Epoch 47/100\n",
      "8000/8000 [==============================] - 1s 144us/step - loss: 0.0836 - acc: 0.9735 - val_loss: 0.0613 - val_acc: 0.9775\n",
      "Epoch 48/100\n",
      "8000/8000 [==============================] - 1s 145us/step - loss: 0.0808 - acc: 0.9713 - val_loss: 0.0484 - val_acc: 0.9840\n",
      "Epoch 49/100\n",
      "8000/8000 [==============================] - 1s 144us/step - loss: 0.0838 - acc: 0.9725 - val_loss: 0.0494 - val_acc: 0.9845\n",
      "Epoch 50/100\n",
      "8000/8000 [==============================] - 1s 145us/step - loss: 0.0806 - acc: 0.9738 - val_loss: 0.0488 - val_acc: 0.9830\n",
      "Epoch 51/100\n",
      "8000/8000 [==============================] - 1s 146us/step - loss: 0.0755 - acc: 0.9740 - val_loss: 0.0572 - val_acc: 0.9820\n",
      "Epoch 52/100\n",
      "8000/8000 [==============================] - 1s 144us/step - loss: 0.0805 - acc: 0.9725 - val_loss: 0.0509 - val_acc: 0.9845\n",
      "Epoch 53/100\n",
      "8000/8000 [==============================] - 1s 145us/step - loss: 0.0721 - acc: 0.9758 - val_loss: 0.0488 - val_acc: 0.9850\n",
      "Epoch 54/100\n",
      "8000/8000 [==============================] - 1s 145us/step - loss: 0.0796 - acc: 0.9743 - val_loss: 0.0450 - val_acc: 0.9830\n",
      "Epoch 55/100\n",
      "8000/8000 [==============================] - 1s 148us/step - loss: 0.0793 - acc: 0.9743 - val_loss: 0.0490 - val_acc: 0.9820\n",
      "Epoch 56/100\n",
      "8000/8000 [==============================] - 1s 146us/step - loss: 0.0748 - acc: 0.9750 - val_loss: 0.0477 - val_acc: 0.9860\n",
      "Epoch 57/100\n",
      "8000/8000 [==============================] - 1s 147us/step - loss: 0.0750 - acc: 0.9756 - val_loss: 0.0439 - val_acc: 0.9865\n",
      "Epoch 58/100\n",
      "8000/8000 [==============================] - 1s 146us/step - loss: 0.0709 - acc: 0.9778 - val_loss: 0.0468 - val_acc: 0.9845\n",
      "Epoch 59/100\n",
      "8000/8000 [==============================] - 1s 146us/step - loss: 0.0751 - acc: 0.9754 - val_loss: 0.0470 - val_acc: 0.9835\n",
      "Epoch 60/100\n"
     ]
    },
    {
     "name": "stdout",
     "output_type": "stream",
     "text": [
      "8000/8000 [==============================] - 1s 146us/step - loss: 0.0746 - acc: 0.9728 - val_loss: 0.0525 - val_acc: 0.9825\n",
      "Epoch 61/100\n",
      "8000/8000 [==============================] - 1s 145us/step - loss: 0.0686 - acc: 0.9781 - val_loss: 0.0458 - val_acc: 0.9835\n",
      "Epoch 62/100\n",
      "8000/8000 [==============================] - 1s 144us/step - loss: 0.0699 - acc: 0.9768 - val_loss: 0.0465 - val_acc: 0.9845\n",
      "Epoch 63/100\n",
      "8000/8000 [==============================] - 1s 144us/step - loss: 0.0717 - acc: 0.9764 - val_loss: 0.0441 - val_acc: 0.9855\n",
      "Epoch 64/100\n",
      "8000/8000 [==============================] - 1s 145us/step - loss: 0.0670 - acc: 0.9785 - val_loss: 0.0426 - val_acc: 0.9875\n",
      "Epoch 65/100\n",
      "8000/8000 [==============================] - 1s 146us/step - loss: 0.0652 - acc: 0.9778 - val_loss: 0.0477 - val_acc: 0.9855\n",
      "Epoch 66/100\n",
      "8000/8000 [==============================] - 1s 146us/step - loss: 0.0705 - acc: 0.9765 - val_loss: 0.0493 - val_acc: 0.9835\n",
      "Epoch 67/100\n",
      "8000/8000 [==============================] - 1s 143us/step - loss: 0.0719 - acc: 0.9770 - val_loss: 0.0449 - val_acc: 0.9865\n",
      "Epoch 68/100\n",
      "8000/8000 [==============================] - 1s 147us/step - loss: 0.0745 - acc: 0.9753 - val_loss: 0.0449 - val_acc: 0.9855\n",
      "Epoch 69/100\n",
      "8000/8000 [==============================] - 1s 144us/step - loss: 0.0676 - acc: 0.9764 - val_loss: 0.0475 - val_acc: 0.9850\n",
      "Epoch 70/100\n",
      "8000/8000 [==============================] - 1s 142us/step - loss: 0.0641 - acc: 0.9789 - val_loss: 0.0432 - val_acc: 0.9855\n",
      "Epoch 71/100\n",
      "8000/8000 [==============================] - 1s 145us/step - loss: 0.0722 - acc: 0.9744 - val_loss: 0.0493 - val_acc: 0.9845\n",
      "Epoch 72/100\n",
      "8000/8000 [==============================] - 1s 145us/step - loss: 0.0627 - acc: 0.9776 - val_loss: 0.0418 - val_acc: 0.9865\n",
      "Epoch 73/100\n",
      "8000/8000 [==============================] - 1s 143us/step - loss: 0.0624 - acc: 0.9801 - val_loss: 0.0433 - val_acc: 0.9865\n",
      "Epoch 74/100\n",
      "8000/8000 [==============================] - 1s 145us/step - loss: 0.0603 - acc: 0.9784 - val_loss: 0.0412 - val_acc: 0.9850\n",
      "Epoch 75/100\n",
      "8000/8000 [==============================] - 1s 146us/step - loss: 0.0695 - acc: 0.9770 - val_loss: 0.0441 - val_acc: 0.9845\n",
      "Epoch 76/100\n",
      "8000/8000 [==============================] - 1s 147us/step - loss: 0.0575 - acc: 0.9798 - val_loss: 0.0476 - val_acc: 0.9835\n",
      "Epoch 77/100\n",
      "8000/8000 [==============================] - 1s 143us/step - loss: 0.0640 - acc: 0.9776 - val_loss: 0.0408 - val_acc: 0.9855\n",
      "Epoch 78/100\n",
      "8000/8000 [==============================] - 1s 143us/step - loss: 0.0644 - acc: 0.9780 - val_loss: 0.0422 - val_acc: 0.9865\n",
      "Epoch 79/100\n",
      "8000/8000 [==============================] - 1s 145us/step - loss: 0.0630 - acc: 0.9794 - val_loss: 0.0479 - val_acc: 0.9830\n",
      "Epoch 80/100\n",
      "8000/8000 [==============================] - 1s 143us/step - loss: 0.0649 - acc: 0.9764 - val_loss: 0.0447 - val_acc: 0.9855\n",
      "Epoch 81/100\n",
      "8000/8000 [==============================] - 1s 142us/step - loss: 0.0695 - acc: 0.9768 - val_loss: 0.0436 - val_acc: 0.9845\n",
      "Epoch 82/100\n",
      "8000/8000 [==============================] - 1s 144us/step - loss: 0.0622 - acc: 0.9781 - val_loss: 0.0422 - val_acc: 0.9870\n",
      "Epoch 83/100\n",
      "8000/8000 [==============================] - 1s 146us/step - loss: 0.0616 - acc: 0.9791 - val_loss: 0.0470 - val_acc: 0.9840\n",
      "Epoch 84/100\n",
      "8000/8000 [==============================] - 1s 146us/step - loss: 0.0601 - acc: 0.9795 - val_loss: 0.0448 - val_acc: 0.9835\n",
      "Epoch 85/100\n",
      "8000/8000 [==============================] - 1s 144us/step - loss: 0.0655 - acc: 0.9804 - val_loss: 0.0384 - val_acc: 0.9875\n",
      "Epoch 86/100\n",
      "8000/8000 [==============================] - 1s 146us/step - loss: 0.0647 - acc: 0.9789 - val_loss: 0.0483 - val_acc: 0.9815\n",
      "Epoch 87/100\n",
      "8000/8000 [==============================] - 1s 144us/step - loss: 0.0681 - acc: 0.9749 - val_loss: 0.0559 - val_acc: 0.9825\n",
      "Epoch 88/100\n",
      "8000/8000 [==============================] - 1s 143us/step - loss: 0.0582 - acc: 0.9804 - val_loss: 0.0438 - val_acc: 0.9835\n",
      "Epoch 89/100\n",
      "8000/8000 [==============================] - 1s 146us/step - loss: 0.0547 - acc: 0.9806 - val_loss: 0.0479 - val_acc: 0.9830\n",
      "Epoch 90/100\n",
      "8000/8000 [==============================] - 1s 143us/step - loss: 0.0624 - acc: 0.9775 - val_loss: 0.0418 - val_acc: 0.9880\n",
      "Epoch 91/100\n",
      "8000/8000 [==============================] - 1s 147us/step - loss: 0.0644 - acc: 0.9771 - val_loss: 0.0620 - val_acc: 0.9800\n",
      "Epoch 92/100\n",
      "8000/8000 [==============================] - 1s 144us/step - loss: 0.0564 - acc: 0.9825 - val_loss: 0.0417 - val_acc: 0.9835\n",
      "Epoch 93/100\n",
      "8000/8000 [==============================] - 1s 146us/step - loss: 0.0550 - acc: 0.9829 - val_loss: 0.0442 - val_acc: 0.9860\n",
      "Epoch 94/100\n",
      "8000/8000 [==============================] - 1s 146us/step - loss: 0.0599 - acc: 0.9798 - val_loss: 0.0382 - val_acc: 0.9870\n",
      "Epoch 95/100\n",
      "8000/8000 [==============================] - 1s 144us/step - loss: 0.0597 - acc: 0.9796 - val_loss: 0.0424 - val_acc: 0.9860\n",
      "Epoch 96/100\n",
      "8000/8000 [==============================] - 1s 146us/step - loss: 0.0545 - acc: 0.9803 - val_loss: 0.0424 - val_acc: 0.9850\n",
      "Epoch 97/100\n",
      "8000/8000 [==============================] - 1s 145us/step - loss: 0.0609 - acc: 0.9789 - val_loss: 0.0384 - val_acc: 0.9865\n",
      "Epoch 98/100\n",
      "8000/8000 [==============================] - 1s 144us/step - loss: 0.0582 - acc: 0.9798 - val_loss: 0.0438 - val_acc: 0.9855\n",
      "Epoch 99/100\n",
      "8000/8000 [==============================] - 1s 148us/step - loss: 0.0595 - acc: 0.9809 - val_loss: 0.0419 - val_acc: 0.9860\n",
      "Epoch 100/100\n",
      "8000/8000 [==============================] - 1s 144us/step - loss: 0.0553 - acc: 0.9805 - val_loss: 0.0436 - val_acc: 0.9815\n"
     ]
    }
   ],
   "source": [
    "# testing the model\n",
    "hist = model.fit(X_train,y_train,\n",
    "                epochs=100,\n",
    "                shuffle = True,\n",
    "                batch_size=100,\n",
    "                validation_data=(X_test,y_test))"
   ]
  },
  {
   "cell_type": "code",
   "execution_count": 26,
   "metadata": {},
   "outputs": [
    {
     "data": {
      "text/plain": [
       "[<matplotlib.lines.Line2D at 0x1e0a6386550>]"
      ]
     },
     "execution_count": 26,
     "metadata": {},
     "output_type": "execute_result"
    },
    {
     "data": {
      "image/png": "[encoded data removed]",
      "text/plain": [
       "<matplotlib.figure.Figure at 0x1e0a63f76a0>"
      ]
     },
     "metadata": {},
     "output_type": "display_data"
    },
    {
     "data": {
      "image/png": "[encoded data removed]",
      "text/plain": [
       "<matplotlib.figure.Figure at 0x1e0a63a8a20>"
      ]
     },
     "metadata": {},
     "output_type": "display_data"
    }
   ],
   "source": [
    "# plots ogf loss and accuracy\n",
    "history = hist.history\n",
    "\n",
    "plt.figure(0)\n",
    "plt.plot(history['loss'],'r--')\n",
    "plt.plot(history['val_loss'],'g')\n",
    "\n",
    "\n",
    "plt.figure(1)\n",
    "plt.plot(history['acc'],'b--')\n",
    "plt.plot(history['val_acc'],'g')"
   ]
  },
  {
   "cell_type": "code",
   "execution_count": null,
   "metadata": {},
   "outputs": [],
   "source": []
  }
 ],
 "metadata": {
  "kernelspec": {
   "display_name": "Python 3",
   "language": "python",
   "name": "python3"
  },
  "language_info": {
   "codemirror_mode": {
    "name": "ipython",
    "version": 3
   },
   "file_extension": ".py",
   "mimetype": "text/x-python",
   "name": "python",
   "nbconvert_exporter": "python",
   "pygments_lexer": "ipython3",
   "version": "3.5.4"
  }
 },
 "nbformat": 4,
 "nbformat_minor": 2
}
